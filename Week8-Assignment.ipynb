{
 "cells": [
  {
   "cell_type": "code",
   "execution_count": 97,
   "id": "9ea63097",
   "metadata": {},
   "outputs": [],
   "source": [
    "from pyspark.sql import SparkSession\n",
    "import getpass\n",
    "username = getpass.getuser()\n",
    "spark = SparkSession. \\\n",
    "builder. \\\n",
    "config('spark.ui.port','0'). \\\n",
    "config(\"spark.sql.warehouse.dir\", f\"/user/{username}/warehouse\"). \\\n",
    "enableHiveSupport(). \\\n",
    "master('yarn'). \\\n",
    "getOrCreate()"
   ]
  },
  {
   "cell_type": "code",
   "execution_count": 98,
   "id": "c572679d",
   "metadata": {},
   "outputs": [],
   "source": [
    "base_order_df = spark.read.format(\"csv\").option(\"header\",\"true\").option(\"inferSchema\",\"true\").option(\"samplingRatio\",.1).load(\"/public/trendytech/datasets/windowdata.csv\")"
   ]
  },
  {
   "cell_type": "code",
   "execution_count": 3,
   "id": "0a9b0142",
   "metadata": {},
   "outputs": [
    {
     "name": "stdout",
     "output_type": "stream",
     "text": [
      "+--------------+-------+-----------+-------------+------------+\n",
      "|       country|weeknum|numinvoices|totalquantity|invoicevalue|\n",
      "+--------------+-------+-----------+-------------+------------+\n",
      "|         Spain|     49|          1|           67|      174.72|\n",
      "|       Germany|     48|         11|         1795|     3309.75|\n",
      "|     Lithuania|     48|          3|          622|     1598.06|\n",
      "|       Germany|     49|         12|         1852|     4521.39|\n",
      "|       Bahrain|     51|          1|           54|      205.74|\n",
      "|       Iceland|     49|          1|          319|      711.79|\n",
      "|         India|     51|          5|           95|      276.84|\n",
      "|     Australia|     50|          2|          133|      387.95|\n",
      "|         Italy|     49|          1|           -2|       -17.0|\n",
      "|         India|     49|          5|         1280|      3284.1|\n",
      "|         Spain|     50|          2|          400|     1049.01|\n",
      "|United Kingdom|     51|        200|        28782|    75103.46|\n",
      "|        Norway|     49|          1|         1730|     1867.98|\n",
      "|United Kingdom|     48|        478|        68865|   166116.72|\n",
      "|        France|     51|          5|          847|     1702.87|\n",
      "|      Portugal|     49|          4|          726|     1844.67|\n",
      "|         Spain|     48|          1|          400|       620.0|\n",
      "|         India|     48|          7|         2822|     3147.23|\n",
      "|       Germany|     50|         15|         1973|     5065.79|\n",
      "|         Italy|     51|          1|          131|       383.7|\n",
      "+--------------+-------+-----------+-------------+------------+\n",
      "only showing top 20 rows\n",
      "\n"
     ]
    }
   ],
   "source": [
    "base_order_df.show()"
   ]
  },
  {
   "cell_type": "code",
   "execution_count": 17,
   "id": "3e4bedc3",
   "metadata": {},
   "outputs": [
    {
     "name": "stdout",
     "output_type": "stream",
     "text": [
      "root\n",
      " |-- country: string (nullable = true)\n",
      " |-- weeknum: integer (nullable = true)\n",
      " |-- numinvoices: integer (nullable = true)\n",
      " |-- totalquantity: integer (nullable = true)\n",
      " |-- invoicevalue: double (nullable = true)\n",
      "\n"
     ]
    }
   ],
   "source": [
    "base_order_df.printSchema()"
   ]
  },
  {
   "cell_type": "markdown",
   "id": "a3093014",
   "metadata": {},
   "source": [
    "Grouping Aggregation - Find Total invoice value contrywise"
   ]
  },
  {
   "cell_type": "code",
   "execution_count": 99,
   "id": "a706cb09",
   "metadata": {},
   "outputs": [],
   "source": [
    "from pyspark.sql import *\n",
    "count_invoice = base_order_df.groupBy(\"country\").agg(sum(expr(\"invoicevalue * totalquantity\")).alias(\"Countryinvoicevalue\"))"
   ]
  },
  {
   "cell_type": "code",
   "execution_count": 100,
   "id": "6fbb7394",
   "metadata": {},
   "outputs": [
    {
     "name": "stdout",
     "output_type": "stream",
     "text": [
      "+---------------+--------------------+\n",
      "|        country| Countryinvoicevalue|\n",
      "+---------------+--------------------+\n",
      "|         Sweden|   9828358.200000001|\n",
      "|        Germany|2.6146917930000003E7|\n",
      "|         France|1.5800077040000001E7|\n",
      "|        Belgium|           1150919.7|\n",
      "|        Finland|           1119571.2|\n",
      "|          India|1.5860418379999999E7|\n",
      "|          Italy|            120457.9|\n",
      "|      Lithuania|           995883.32|\n",
      "|         Norway|          6785852.68|\n",
      "|          Spain|           679310.24|\n",
      "|        Denmark|            581801.0|\n",
      "|        Iceland|  227061.00999999998|\n",
      "|         Israel|            12736.64|\n",
      "|Channel Islands|  29082.399999999998|\n",
      "|         Cyprus|          1458781.94|\n",
      "|    Switzerland|           638292.08|\n",
      "|          Japan|2.8842041709999997E7|\n",
      "|         Poland|             34742.4|\n",
      "|       Portugal|  1409959.5200000003|\n",
      "|      Australia|            145334.7|\n",
      "+---------------+--------------------+\n",
      "only showing top 20 rows\n",
      "\n"
     ]
    }
   ],
   "source": [
    "count_invoice.show()"
   ]
  },
  {
   "cell_type": "markdown",
   "id": "7e144dd1",
   "metadata": {},
   "source": [
    "Window Function - Running Total"
   ]
  },
  {
   "cell_type": "code",
   "execution_count": 18,
   "id": "d9d15499",
   "metadata": {},
   "outputs": [],
   "source": [
    "mywin = Window.partitionBy(\"country\").orderBy(\"weeknum\").rowsBetween(Window.unboundedPreceding,Window.currentRow)"
   ]
  },
  {
   "cell_type": "code",
   "execution_count": 19,
   "id": "a48e8a01",
   "metadata": {},
   "outputs": [],
   "source": [
    "running_total = base_order_df.withColumn(\"RunningTotal\",sum(\"invoicevalue\").over(mywin))"
   ]
  },
  {
   "cell_type": "code",
   "execution_count": 20,
   "id": "df23b91a",
   "metadata": {},
   "outputs": [
    {
     "name": "stdout",
     "output_type": "stream",
     "text": [
      "+-------+-------+-----------+-------------+------------+------------------+\n",
      "|country|weeknum|numinvoices|totalquantity|invoicevalue|      RunningTotal|\n",
      "+-------+-------+-----------+-------------+------------+------------------+\n",
      "| Sweden|     50|          3|         3714|      2646.3|            2646.3|\n",
      "|Germany|     48|         11|         1795|     3309.75|           3309.75|\n",
      "|Germany|     49|         12|         1852|     4521.39|           7831.14|\n",
      "|Germany|     50|         15|         1973|     5065.79|          12896.93|\n",
      "|Germany|     51|          5|         1103|     1665.91|          14562.84|\n",
      "| France|     48|          4|         1299|     2808.16|           2808.16|\n",
      "| France|     49|          9|         2303|     4527.01|           7335.17|\n",
      "| France|     50|          6|          529|      537.32|           7872.49|\n",
      "| France|     51|          5|          847|     1702.87|           9575.36|\n",
      "|Belgium|     48|          1|          528|       346.1|             346.1|\n",
      "|Belgium|     50|          2|          285|      625.16|            971.26|\n",
      "|Belgium|     51|          2|          942|      838.65|1809.9099999999999|\n",
      "|Finland|     50|          1|         1254|       892.8|             892.8|\n",
      "|  India|     48|          7|         2822|     3147.23|           3147.23|\n",
      "|  India|     49|          5|         1280|      3284.1|           6431.33|\n",
      "|  India|     50|          5|         1184|     2321.78|           8753.11|\n",
      "|  India|     51|          5|           95|      276.84|           9029.95|\n",
      "|  Italy|     48|          1|          164|       427.8|             427.8|\n",
      "|  Italy|     49|          1|           -2|       -17.0|             410.8|\n",
      "|  Italy|     51|          1|          131|       383.7|             794.5|\n",
      "+-------+-------+-----------+-------------+------------+------------------+\n",
      "only showing top 20 rows\n",
      "\n"
     ]
    }
   ],
   "source": [
    "running_total.show()"
   ]
  },
  {
   "cell_type": "markdown",
   "id": "9ebabece",
   "metadata": {},
   "source": [
    "Window Function - Rank the weeknum in each country invoice value wise(Jump rank if duplicate ranks present)"
   ]
  },
  {
   "cell_type": "code",
   "execution_count": 28,
   "id": "1be7385e",
   "metadata": {},
   "outputs": [],
   "source": [
    "mywin2 = Window.partitionBy(\"country\").orderBy(column(\"invoicevalue\").desc()).rowsBetween(Window.unboundedPreceding,Window.currentRow)"
   ]
  },
  {
   "cell_type": "code",
   "execution_count": 29,
   "id": "5dd3c42d",
   "metadata": {},
   "outputs": [],
   "source": [
    "rank_inv_df = base_order_df.withColumn(\"Rank\",rank().over(mywin2))"
   ]
  },
  {
   "cell_type": "code",
   "execution_count": 30,
   "id": "a935f8e4",
   "metadata": {},
   "outputs": [
    {
     "name": "stdout",
     "output_type": "stream",
     "text": [
      "+-------+-------+-----------+-------------+------------+----+\n",
      "|country|weeknum|numinvoices|totalquantity|invoicevalue|Rank|\n",
      "+-------+-------+-----------+-------------+------------+----+\n",
      "| Sweden|     50|          3|         3714|      2646.3|   1|\n",
      "|Germany|     50|         15|         1973|     5065.79|   1|\n",
      "|Germany|     49|         12|         1852|     4521.39|   2|\n",
      "|Germany|     48|         11|         1795|     3309.75|   3|\n",
      "|Germany|     51|          5|         1103|     1665.91|   4|\n",
      "| France|     49|          9|         2303|     4527.01|   1|\n",
      "| France|     48|          4|         1299|     2808.16|   2|\n",
      "| France|     51|          5|          847|     1702.87|   3|\n",
      "| France|     50|          6|          529|      537.32|   4|\n",
      "|Belgium|     51|          2|          942|      838.65|   1|\n",
      "|Belgium|     50|          2|          285|      625.16|   2|\n",
      "|Belgium|     48|          1|          528|       346.1|   3|\n",
      "|Finland|     50|          1|         1254|       892.8|   1|\n",
      "|  India|     49|          5|         1280|      3284.1|   1|\n",
      "|  India|     48|          7|         2822|     3147.23|   2|\n",
      "|  India|     50|          5|         1184|     2321.78|   3|\n",
      "|  India|     51|          5|           95|      276.84|   4|\n",
      "|  Italy|     48|          1|          164|       427.8|   1|\n",
      "|  Italy|     51|          1|          131|       383.7|   2|\n",
      "|  Italy|     49|          1|           -2|       -17.0|   3|\n",
      "+-------+-------+-----------+-------------+------------+----+\n",
      "only showing top 20 rows\n",
      "\n"
     ]
    }
   ],
   "source": [
    "rank_inv_df.show()"
   ]
  },
  {
   "cell_type": "markdown",
   "id": "32eff1cc",
   "metadata": {},
   "source": [
    "Window Function - Dense Rank()"
   ]
  },
  {
   "cell_type": "code",
   "execution_count": 42,
   "id": "b1208ebe",
   "metadata": {},
   "outputs": [],
   "source": [
    "mylst = [('Akash',99),('Vinay',99),('Ashish',98),('Vikram',95)]"
   ]
  },
  {
   "cell_type": "code",
   "execution_count": 43,
   "id": "d6c14a58",
   "metadata": {},
   "outputs": [],
   "source": [
    "base_stud_df = spark.createDataFrame(mylst,schema=[\"Name\",\"Marks\"])"
   ]
  },
  {
   "cell_type": "code",
   "execution_count": 44,
   "id": "88572535",
   "metadata": {},
   "outputs": [
    {
     "name": "stdout",
     "output_type": "stream",
     "text": [
      "+------+-----+\n",
      "|  Name|Marks|\n",
      "+------+-----+\n",
      "| Akash|   99|\n",
      "| Vinay|   99|\n",
      "|Ashish|   98|\n",
      "|Vikram|   95|\n",
      "+------+-----+\n",
      "\n"
     ]
    }
   ],
   "source": [
    "base_stud_df.show()"
   ]
  },
  {
   "cell_type": "code",
   "execution_count": 45,
   "id": "983e68e0",
   "metadata": {},
   "outputs": [
    {
     "name": "stdout",
     "output_type": "stream",
     "text": [
      "root\n",
      " |-- Name: string (nullable = true)\n",
      " |-- Marks: long (nullable = true)\n",
      "\n"
     ]
    }
   ],
   "source": [
    "base_stud_df.printSchema()"
   ]
  },
  {
   "cell_type": "markdown",
   "id": "c9a0d4ea",
   "metadata": {},
   "source": [
    "mywin3 = Window.orderBy(column(\"Marks\").desc())"
   ]
  },
  {
   "cell_type": "code",
   "execution_count": 51,
   "id": "a9aa4351",
   "metadata": {},
   "outputs": [
    {
     "name": "stdout",
     "output_type": "stream",
     "text": [
      "+------+-----+----+\n",
      "|  Name|Marks|Rank|\n",
      "+------+-----+----+\n",
      "| Akash|   99|   1|\n",
      "| Vinay|   99|   1|\n",
      "|Ashish|   98|   2|\n",
      "|Vikram|   95|   3|\n",
      "+------+-----+----+\n",
      "\n"
     ]
    }
   ],
   "source": [
    "base_stud_df.withColumn(\"Rank\",dense_rank().over(mywin3)).show()"
   ]
  },
  {
   "cell_type": "code",
   "execution_count": 53,
   "id": "950f3240",
   "metadata": {},
   "outputs": [],
   "source": [
    "mywin4 = Window.orderBy(column(\"Name\"))"
   ]
  },
  {
   "cell_type": "code",
   "execution_count": 54,
   "id": "1f6abc78",
   "metadata": {},
   "outputs": [],
   "source": [
    "stud_df = base_stud_df.withColumn(\"Roll No\",row_number().over(mywin4))"
   ]
  },
  {
   "cell_type": "code",
   "execution_count": 55,
   "id": "c936ad6b",
   "metadata": {},
   "outputs": [
    {
     "name": "stdout",
     "output_type": "stream",
     "text": [
      "+------+-----+-------+\n",
      "|  Name|Marks|Roll No|\n",
      "+------+-----+-------+\n",
      "| Akash|   99|      1|\n",
      "|Ashish|   98|      2|\n",
      "|Vikram|   95|      3|\n",
      "| Vinay|   99|      4|\n",
      "+------+-----+-------+\n",
      "\n"
     ]
    }
   ],
   "source": [
    "stud_df.show()"
   ]
  },
  {
   "cell_type": "markdown",
   "id": "493dd049",
   "metadata": {},
   "source": [
    "Lead - Lag "
   ]
  },
  {
   "cell_type": "code",
   "execution_count": 75,
   "id": "e697270c",
   "metadata": {},
   "outputs": [],
   "source": [
    "mylst2 = [(\"Iphone12\",1,400,\"2018-01-01\"),\n",
    "         (\"Iphone12\",2,450,\"2019-01-01\"),\n",
    "         (\"Iphone13\",1,700,\"2020-01-01\"),\n",
    "         (\"Iphone13\",2,710,\"2021-01-01\"),\n",
    "         (\"Iphone14\",1,800,\"2022-01-01\"),\n",
    "         (\"Iphone15\",1,1200,\"2023-01-01\"),]"
   ]
  },
  {
   "cell_type": "code",
   "execution_count": 76,
   "id": "103d0507",
   "metadata": {},
   "outputs": [],
   "source": [
    "base_iphone_df = spark.createDataFrame(mylst2,schema = [\"Iphone\",\"UpgradeVersion\",\"Price\",\"UpdateLaunchDate\"])"
   ]
  },
  {
   "cell_type": "code",
   "execution_count": 77,
   "id": "76489008",
   "metadata": {},
   "outputs": [
    {
     "name": "stdout",
     "output_type": "stream",
     "text": [
      "+--------+--------------+-----+----------------+\n",
      "|  Iphone|UpgradeVersion|Price|UpdateLaunchDate|\n",
      "+--------+--------------+-----+----------------+\n",
      "|Iphone12|             1|  400|      2018-01-01|\n",
      "|Iphone12|             2|  450|      2019-01-01|\n",
      "|Iphone13|             1|  700|      2020-01-01|\n",
      "|Iphone13|             2|  710|      2021-01-01|\n",
      "|Iphone14|             1|  800|      2022-01-01|\n",
      "|Iphone15|             1| 1200|      2023-01-01|\n",
      "+--------+--------------+-----+----------------+\n",
      "\n"
     ]
    }
   ],
   "source": [
    "base_iphone_df.show()"
   ]
  },
  {
   "cell_type": "markdown",
   "id": "22971c7f",
   "metadata": {},
   "source": [
    "Add a new column in dataframe VersionEndDate. validity of current version will end when next version Update date is launched"
   ]
  },
  {
   "cell_type": "code",
   "execution_count": 78,
   "id": "f67b7075",
   "metadata": {},
   "outputs": [],
   "source": [
    "mywin5 = Window.partitionBy(\"Iphone\").orderBy(\"UpgradeVersion\")"
   ]
  },
  {
   "cell_type": "code",
   "execution_count": 79,
   "id": "04dc6740",
   "metadata": {},
   "outputs": [],
   "source": [
    "final_iphone_df = base_iphone_df.withColumn(\"VersionEndDate\",lead(\"UpdateLaunchDate\").over(mywin5))"
   ]
  },
  {
   "cell_type": "code",
   "execution_count": 80,
   "id": "09f319b6",
   "metadata": {},
   "outputs": [
    {
     "name": "stdout",
     "output_type": "stream",
     "text": [
      "+--------+--------------+-----+----------------+--------------+\n",
      "|  Iphone|UpgradeVersion|Price|UpdateLaunchDate|VersionEndDate|\n",
      "+--------+--------------+-----+----------------+--------------+\n",
      "|Iphone12|             1|  400|      2018-01-01|    2019-01-01|\n",
      "|Iphone12|             2|  450|      2019-01-01|          null|\n",
      "|Iphone13|             1|  700|      2020-01-01|    2021-01-01|\n",
      "|Iphone13|             2|  710|      2021-01-01|          null|\n",
      "|Iphone14|             1|  800|      2022-01-01|          null|\n",
      "|Iphone15|             1| 1200|      2023-01-01|          null|\n",
      "+--------+--------------+-----+----------------+--------------+\n",
      "\n"
     ]
    }
   ],
   "source": [
    "final_iphone_df.show()"
   ]
  },
  {
   "cell_type": "code",
   "execution_count": 81,
   "id": "f055b3b0",
   "metadata": {},
   "outputs": [],
   "source": [
    "mywin6 = Window.partitionBy(\"Iphone\").orderBy(\"UpgradeVersion\")"
   ]
  },
  {
   "cell_type": "code",
   "execution_count": 82,
   "id": "ad78e28c",
   "metadata": {},
   "outputs": [],
   "source": [
    "final_iphone_df1 = base_iphone_df.withColumn(\"PreviosPrice\",lag(\"Price\").over(mywin6))"
   ]
  },
  {
   "cell_type": "code",
   "execution_count": 83,
   "id": "f4574483",
   "metadata": {},
   "outputs": [
    {
     "name": "stdout",
     "output_type": "stream",
     "text": [
      "+--------+--------------+-----+----------------+------------+\n",
      "|  Iphone|UpgradeVersion|Price|UpdateLaunchDate|PreviosPrice|\n",
      "+--------+--------------+-----+----------------+------------+\n",
      "|Iphone12|             1|  400|      2018-01-01|        null|\n",
      "|Iphone12|             2|  450|      2019-01-01|         400|\n",
      "|Iphone13|             1|  700|      2020-01-01|        null|\n",
      "|Iphone13|             2|  710|      2021-01-01|         700|\n",
      "|Iphone14|             1|  800|      2022-01-01|        null|\n",
      "|Iphone15|             1| 1200|      2023-01-01|        null|\n",
      "+--------+--------------+-----+----------------+------------+\n",
      "\n"
     ]
    }
   ],
   "source": [
    "final_iphone_df1.show()"
   ]
  },
  {
   "cell_type": "code",
   "execution_count": 84,
   "id": "a719aa2b",
   "metadata": {},
   "outputs": [],
   "source": [
    "mylst3 = [(\"Banana\",1000,\"USA\"), (\"Carrots\",1500,\"USA\"), (\"Beans\",1600,\"USA\"), \\\n",
    "      (\"Orange\",2000,\"USA\"),(\"Orange\",2000,\"USA\"),(\"Banana\",400,\"China\"), \\\n",
    "      (\"Carrots\",1200,\"China\"),(\"Beans\",1500,\"China\"),(\"Orange\",4000,\"China\"), \\\n",
    "      (\"Banana\",2000,\"Canada\"),(\"Carrots\",2000,\"Canada\"),(\"Beans\",2000,\"Mexico\")]"
   ]
  },
  {
   "cell_type": "code",
   "execution_count": 85,
   "id": "055f2356",
   "metadata": {},
   "outputs": [],
   "source": [
    "base_fruits_df = spark.createDataFrame(mylst3,schema = [\"Fruit\",\"Price\",\"Country\"])"
   ]
  },
  {
   "cell_type": "code",
   "execution_count": 86,
   "id": "f95de1b1",
   "metadata": {},
   "outputs": [
    {
     "name": "stdout",
     "output_type": "stream",
     "text": [
      "+-------+-----+-------+\n",
      "|  Fruit|Price|Country|\n",
      "+-------+-----+-------+\n",
      "| Banana| 1000|    USA|\n",
      "|Carrots| 1500|    USA|\n",
      "|  Beans| 1600|    USA|\n",
      "| Orange| 2000|    USA|\n",
      "| Orange| 2000|    USA|\n",
      "| Banana|  400|  China|\n",
      "|Carrots| 1200|  China|\n",
      "|  Beans| 1500|  China|\n",
      "| Orange| 4000|  China|\n",
      "| Banana| 2000| Canada|\n",
      "|Carrots| 2000| Canada|\n",
      "|  Beans| 2000| Mexico|\n",
      "+-------+-----+-------+\n",
      "\n"
     ]
    }
   ],
   "source": [
    "base_fruits_df.show()"
   ]
  },
  {
   "cell_type": "code",
   "execution_count": 94,
   "id": "bddab81e",
   "metadata": {},
   "outputs": [],
   "source": [
    "pivot_fruits_df = base_fruits_df.groupBy(\"Fruit\").pivot(\"Country\").sum(\"Price\")"
   ]
  },
  {
   "cell_type": "code",
   "execution_count": 95,
   "id": "800d27c9",
   "metadata": {},
   "outputs": [
    {
     "name": "stdout",
     "output_type": "stream",
     "text": [
      "+-------+------+-----+------+----+\n",
      "|  Fruit|Canada|China|Mexico| USA|\n",
      "+-------+------+-----+------+----+\n",
      "| Orange|  null| 4000|  null|4000|\n",
      "|  Beans|  null| 1500|  2000|1600|\n",
      "| Banana|  2000|  400|  null|1000|\n",
      "|Carrots|  2000| 1200|  null|1500|\n",
      "+-------+------+-----+------+----+\n",
      "\n"
     ]
    }
   ],
   "source": [
    "pivot_fruits_df.show()"
   ]
  },
  {
   "cell_type": "code",
   "execution_count": 96,
   "id": "07113c53",
   "metadata": {},
   "outputs": [],
   "source": [
    "spark.stop()"
   ]
  },
  {
   "cell_type": "code",
   "execution_count": null,
   "id": "3da7ccff",
   "metadata": {},
   "outputs": [],
   "source": []
  }
 ],
 "metadata": {
  "kernelspec": {
   "display_name": "Pyspark 2",
   "language": "python",
   "name": "pyspark2"
  },
  "language_info": {
   "codemirror_mode": {
    "name": "ipython",
    "version": 3
   },
   "file_extension": ".py",
   "mimetype": "text/x-python",
   "name": "python",
   "nbconvert_exporter": "python",
   "pygments_lexer": "ipython3",
   "version": "3.6.12"
  }
 },
 "nbformat": 4,
 "nbformat_minor": 5
}
